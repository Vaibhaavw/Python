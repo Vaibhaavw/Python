{
 "cells": [
  {
   "cell_type": "code",
   "execution_count": 1,
   "id": "8387efc7",
   "metadata": {},
   "outputs": [
    {
     "name": "stdout",
     "output_type": "stream",
     "text": [
      "Enter the Mark\n",
      "600\n",
      "Congratulations you have cleared GRE and TOFEL\n"
     ]
    }
   ],
   "source": [
    "print(\"Enter the Mark\")\n",
    "a = int(input())\n",
    "if a>=600:\n",
    "    print(\"Congratulations you have cleared GRE and TOFEL\")\n",
    "elif a>=400 and a<600:\n",
    "    print(\"You have cleared the TOFEL but not cleared GRE\")\n",
    "else:\n",
    "    print(\"Sorry You haven't cleared both Please Try Again\")"
   ]
  },
  {
   "cell_type": "code",
   "execution_count": 4,
   "id": "3fd457bd",
   "metadata": {},
   "outputs": [
    {
     "name": "stdout",
     "output_type": "stream",
     "text": [
      "Enter the Mark\n",
      "600\n",
      "Congratulations you have cleared GRE and TOFEL\n"
     ]
    }
   ],
   "source": [
    "print(\"Enter the Mark\")\n",
    "a = int(input())\n",
    "if a<400:\n",
    "    print(\"Sorry You haven't cleared both Please Try Again\")\n",
    "elif a<600:\n",
    "    print(\"You have cleared the TOFEL but not cleared GRE\")\n",
    "else:\n",
    "    print(\"Congratulations you have cleared GRE and TOFEL\")"
   ]
  },
  {
   "cell_type": "code",
   "execution_count": null,
   "id": "74a6a857",
   "metadata": {},
   "outputs": [],
   "source": []
  }
 ],
 "metadata": {
  "kernelspec": {
   "display_name": "Python 3 (ipykernel)",
   "language": "python",
   "name": "python3"
  },
  "language_info": {
   "codemirror_mode": {
    "name": "ipython",
    "version": 3
   },
   "file_extension": ".py",
   "mimetype": "text/x-python",
   "name": "python",
   "nbconvert_exporter": "python",
   "pygments_lexer": "ipython3",
   "version": "3.11.5"
  }
 },
 "nbformat": 4,
 "nbformat_minor": 5
}
